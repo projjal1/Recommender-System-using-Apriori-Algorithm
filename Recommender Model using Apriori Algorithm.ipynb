{
 "cells": [
  {
   "cell_type": "raw",
   "metadata": {},
   "source": [
    "Importing modules in Python:\n",
    "Here we are importing numpy for computations \n",
    "Pandas for reading the dataset \n",
    "Mlxtend for importing ML libraries"
   ]
  },
  {
   "cell_type": "code",
   "execution_count": 1,
   "metadata": {},
   "outputs": [],
   "source": [
    "import numpy as np\n",
    "import pandas as pd \n",
    "from mlxtend.frequent_patterns import apriori,association_rules"
   ]
  },
  {
   "cell_type": "raw",
   "metadata": {},
   "source": [
    "Now we are loading the dataset using Pandas"
   ]
  },
  {
   "cell_type": "code",
   "execution_count": 2,
   "metadata": {},
   "outputs": [],
   "source": [
    "data=pd.read_excel('Online Retail.xlsx')"
   ]
  },
  {
   "cell_type": "code",
   "execution_count": 3,
   "metadata": {},
   "outputs": [
    {
     "data": {
      "text/html": [
       "<div>\n",
       "<style scoped>\n",
       "    .dataframe tbody tr th:only-of-type {\n",
       "        vertical-align: middle;\n",
       "    }\n",
       "\n",
       "    .dataframe tbody tr th {\n",
       "        vertical-align: top;\n",
       "    }\n",
       "\n",
       "    .dataframe thead th {\n",
       "        text-align: right;\n",
       "    }\n",
       "</style>\n",
       "<table border=\"1\" class=\"dataframe\">\n",
       "  <thead>\n",
       "    <tr style=\"text-align: right;\">\n",
       "      <th></th>\n",
       "      <th>InvoiceNo</th>\n",
       "      <th>StockCode</th>\n",
       "      <th>Description</th>\n",
       "      <th>Quantity</th>\n",
       "      <th>InvoiceDate</th>\n",
       "      <th>UnitPrice</th>\n",
       "      <th>CustomerID</th>\n",
       "      <th>Country</th>\n",
       "    </tr>\n",
       "  </thead>\n",
       "  <tbody>\n",
       "    <tr>\n",
       "      <th>0</th>\n",
       "      <td>536365</td>\n",
       "      <td>85123A</td>\n",
       "      <td>WHITE HANGING HEART T-LIGHT HOLDER</td>\n",
       "      <td>6</td>\n",
       "      <td>2010-12-01 08:26:00</td>\n",
       "      <td>2.55</td>\n",
       "      <td>17850.0</td>\n",
       "      <td>United Kingdom</td>\n",
       "    </tr>\n",
       "    <tr>\n",
       "      <th>1</th>\n",
       "      <td>536365</td>\n",
       "      <td>71053</td>\n",
       "      <td>WHITE METAL LANTERN</td>\n",
       "      <td>6</td>\n",
       "      <td>2010-12-01 08:26:00</td>\n",
       "      <td>3.39</td>\n",
       "      <td>17850.0</td>\n",
       "      <td>United Kingdom</td>\n",
       "    </tr>\n",
       "    <tr>\n",
       "      <th>2</th>\n",
       "      <td>536365</td>\n",
       "      <td>84406B</td>\n",
       "      <td>CREAM CUPID HEARTS COAT HANGER</td>\n",
       "      <td>8</td>\n",
       "      <td>2010-12-01 08:26:00</td>\n",
       "      <td>2.75</td>\n",
       "      <td>17850.0</td>\n",
       "      <td>United Kingdom</td>\n",
       "    </tr>\n",
       "    <tr>\n",
       "      <th>3</th>\n",
       "      <td>536365</td>\n",
       "      <td>84029G</td>\n",
       "      <td>KNITTED UNION FLAG HOT WATER BOTTLE</td>\n",
       "      <td>6</td>\n",
       "      <td>2010-12-01 08:26:00</td>\n",
       "      <td>3.39</td>\n",
       "      <td>17850.0</td>\n",
       "      <td>United Kingdom</td>\n",
       "    </tr>\n",
       "    <tr>\n",
       "      <th>4</th>\n",
       "      <td>536365</td>\n",
       "      <td>84029E</td>\n",
       "      <td>RED WOOLLY HOTTIE WHITE HEART.</td>\n",
       "      <td>6</td>\n",
       "      <td>2010-12-01 08:26:00</td>\n",
       "      <td>3.39</td>\n",
       "      <td>17850.0</td>\n",
       "      <td>United Kingdom</td>\n",
       "    </tr>\n",
       "  </tbody>\n",
       "</table>\n",
       "</div>"
      ],
      "text/plain": [
       "  InvoiceNo StockCode                          Description  Quantity  \\\n",
       "0    536365    85123A   WHITE HANGING HEART T-LIGHT HOLDER         6   \n",
       "1    536365     71053                  WHITE METAL LANTERN         6   \n",
       "2    536365    84406B       CREAM CUPID HEARTS COAT HANGER         8   \n",
       "3    536365    84029G  KNITTED UNION FLAG HOT WATER BOTTLE         6   \n",
       "4    536365    84029E       RED WOOLLY HOTTIE WHITE HEART.         6   \n",
       "\n",
       "          InvoiceDate  UnitPrice  CustomerID         Country  \n",
       "0 2010-12-01 08:26:00       2.55     17850.0  United Kingdom  \n",
       "1 2010-12-01 08:26:00       3.39     17850.0  United Kingdom  \n",
       "2 2010-12-01 08:26:00       2.75     17850.0  United Kingdom  \n",
       "3 2010-12-01 08:26:00       3.39     17850.0  United Kingdom  \n",
       "4 2010-12-01 08:26:00       3.39     17850.0  United Kingdom  "
      ]
     },
     "execution_count": 3,
     "metadata": {},
     "output_type": "execute_result"
    }
   ],
   "source": [
    "data.head()"
   ]
  },
  {
   "cell_type": "raw",
   "metadata": {},
   "source": [
    "Let us look at the columns "
   ]
  },
  {
   "cell_type": "code",
   "execution_count": 4,
   "metadata": {},
   "outputs": [
    {
     "data": {
      "text/plain": [
       "Index(['InvoiceNo', 'StockCode', 'Description', 'Quantity', 'InvoiceDate',\n",
       "       'UnitPrice', 'CustomerID', 'Country'],\n",
       "      dtype='object')"
      ]
     },
     "execution_count": 4,
     "metadata": {},
     "output_type": "execute_result"
    }
   ],
   "source": [
    "data.columns"
   ]
  },
  {
   "cell_type": "markdown",
   "metadata": {},
   "source": [
    "Unique countries where transactions took place"
   ]
  },
  {
   "cell_type": "code",
   "execution_count": 5,
   "metadata": {},
   "outputs": [
    {
     "data": {
      "text/plain": [
       "array(['United Kingdom', 'France', 'Australia', 'Netherlands', 'Germany',\n",
       "       'Norway', 'EIRE', 'Switzerland', 'Spain', 'Poland', 'Portugal',\n",
       "       'Italy', 'Belgium', 'Lithuania', 'Japan', 'Iceland',\n",
       "       'Channel Islands', 'Denmark', 'Cyprus', 'Sweden', 'Austria',\n",
       "       'Israel', 'Finland', 'Bahrain', 'Greece', 'Hong Kong', 'Singapore',\n",
       "       'Lebanon', 'United Arab Emirates', 'Saudi Arabia',\n",
       "       'Czech Republic', 'Canada', 'Unspecified', 'Brazil', 'USA',\n",
       "       'European Community', 'Malta', 'RSA'], dtype=object)"
      ]
     },
     "execution_count": 5,
     "metadata": {},
     "output_type": "execute_result"
    }
   ],
   "source": [
    "data.Country.unique()"
   ]
  },
  {
   "cell_type": "raw",
   "metadata": {},
   "source": [
    "Cleaning the data according to some pre-defined standards"
   ]
  },
  {
   "cell_type": "code",
   "execution_count": 6,
   "metadata": {},
   "outputs": [],
   "source": [
    "# Stripping extra spaces in the description \n",
    "data['Description'] = data['Description'].str.strip() \n",
    "  \n",
    "# Dropping the rows without any invoice number \n",
    "data.dropna(axis = 0, subset =['InvoiceNo'], inplace = True) \n",
    "data['InvoiceNo'] = data['InvoiceNo'].astype('str') \n",
    "  \n",
    "# Dropping all transactions which were done on credit \n",
    "data = data[~data['InvoiceNo'].str.contains('C')] "
   ]
  },
  {
   "cell_type": "raw",
   "metadata": {},
   "source": [
    "Splitting the data according to regions or countries"
   ]
  },
  {
   "cell_type": "code",
   "execution_count": 7,
   "metadata": {},
   "outputs": [],
   "source": [
    "# Transactions done in France \n",
    "basket_France = (data[data['Country'] ==\"France\"] \n",
    "          .groupby(['InvoiceNo', 'Description'])['Quantity'] \n",
    "          .sum().unstack().reset_index().fillna(0) \n",
    "          .set_index('InvoiceNo')) \n",
    "  \n",
    "# Transactions done in the United Kingdom \n",
    "basket_UK = (data[data['Country'] ==\"United Kingdom\"] \n",
    "          .groupby(['InvoiceNo', 'Description'])['Quantity'] \n",
    "          .sum().unstack().reset_index().fillna(0) \n",
    "          .set_index('InvoiceNo')) \n",
    "  \n",
    "# Transactions done in Portugal \n",
    "basket_Por = (data[data['Country'] ==\"Portugal\"] \n",
    "          .groupby(['InvoiceNo', 'Description'])['Quantity'] \n",
    "          .sum().unstack().reset_index().fillna(0) \n",
    "          .set_index('InvoiceNo')) \n",
    "  \n",
    "basket_Sweden = (data[data['Country'] ==\"Sweden\"] \n",
    "          .groupby(['InvoiceNo', 'Description'])['Quantity'] \n",
    "          .sum().unstack().reset_index().fillna(0) \n",
    "          .set_index('InvoiceNo')) "
   ]
  },
  {
   "cell_type": "raw",
   "metadata": {},
   "source": [
    "Let's look at the data of France say for instance"
   ]
  },
  {
   "cell_type": "code",
   "execution_count": 8,
   "metadata": {},
   "outputs": [
    {
     "data": {
      "text/plain": [
       "<bound method NDFrame.head of Description  10 COLOUR SPACEBOY PEN  12 COLOURED PARTY BALLOONS  \\\n",
       "InvoiceNo                                                         \n",
       "536370                          0.0                         0.0   \n",
       "536852                          0.0                         0.0   \n",
       "536974                          0.0                         0.0   \n",
       "537065                          0.0                         0.0   \n",
       "537463                          0.0                         0.0   \n",
       "...                             ...                         ...   \n",
       "580986                          0.0                         0.0   \n",
       "581001                          0.0                         0.0   \n",
       "581171                          0.0                         0.0   \n",
       "581279                          0.0                         0.0   \n",
       "581587                          0.0                         0.0   \n",
       "\n",
       "Description  12 EGG HOUSE PAINTED WOOD  12 MESSAGE CARDS WITH ENVELOPES  \\\n",
       "InvoiceNo                                                                 \n",
       "536370                             0.0                              0.0   \n",
       "536852                             0.0                              0.0   \n",
       "536974                             0.0                              0.0   \n",
       "537065                             0.0                              0.0   \n",
       "537463                             0.0                              0.0   \n",
       "...                                ...                              ...   \n",
       "580986                             0.0                              0.0   \n",
       "581001                             0.0                              0.0   \n",
       "581171                             0.0                              0.0   \n",
       "581279                             0.0                              0.0   \n",
       "581587                             0.0                              0.0   \n",
       "\n",
       "Description  12 PENCIL SMALL TUBE WOODLAND  \\\n",
       "InvoiceNo                                    \n",
       "536370                                 0.0   \n",
       "536852                                 0.0   \n",
       "536974                                 0.0   \n",
       "537065                                 0.0   \n",
       "537463                                 0.0   \n",
       "...                                    ...   \n",
       "580986                                 0.0   \n",
       "581001                                 0.0   \n",
       "581171                                 0.0   \n",
       "581279                                 0.0   \n",
       "581587                                 0.0   \n",
       "\n",
       "Description  12 PENCILS SMALL TUBE RED RETROSPOT  12 PENCILS SMALL TUBE SKULL  \\\n",
       "InvoiceNo                                                                       \n",
       "536370                                       0.0                          0.0   \n",
       "536852                                       0.0                          0.0   \n",
       "536974                                       0.0                          0.0   \n",
       "537065                                       0.0                          0.0   \n",
       "537463                                       0.0                          0.0   \n",
       "...                                          ...                          ...   \n",
       "580986                                       0.0                          0.0   \n",
       "581001                                       0.0                          0.0   \n",
       "581171                                       0.0                          0.0   \n",
       "581279                                       0.0                          0.0   \n",
       "581587                                       0.0                          0.0   \n",
       "\n",
       "Description  12 PENCILS TALL TUBE POSY  12 PENCILS TALL TUBE RED RETROSPOT  \\\n",
       "InvoiceNo                                                                    \n",
       "536370                             0.0                                 0.0   \n",
       "536852                             0.0                                 0.0   \n",
       "536974                             0.0                                 0.0   \n",
       "537065                             0.0                                 0.0   \n",
       "537463                             0.0                                 0.0   \n",
       "...                                ...                                 ...   \n",
       "580986                             0.0                                 0.0   \n",
       "581001                             0.0                                 0.0   \n",
       "581171                             0.0                                 0.0   \n",
       "581279                             0.0                                 0.0   \n",
       "581587                             0.0                                 0.0   \n",
       "\n",
       "Description  12 PENCILS TALL TUBE WOODLAND  ...  WRAP VINTAGE PETALS  DESIGN  \\\n",
       "InvoiceNo                                   ...                                \n",
       "536370                                 0.0  ...                          0.0   \n",
       "536852                                 0.0  ...                          0.0   \n",
       "536974                                 0.0  ...                          0.0   \n",
       "537065                                 0.0  ...                          0.0   \n",
       "537463                                 0.0  ...                          0.0   \n",
       "...                                    ...  ...                          ...   \n",
       "580986                                 0.0  ...                          0.0   \n",
       "581001                                 0.0  ...                          0.0   \n",
       "581171                                 0.0  ...                          0.0   \n",
       "581279                                 0.0  ...                          0.0   \n",
       "581587                                 0.0  ...                          0.0   \n",
       "\n",
       "Description  YELLOW COAT RACK PARIS FASHION  YELLOW GIANT GARDEN THERMOMETER  \\\n",
       "InvoiceNo                                                                      \n",
       "536370                                  0.0                              0.0   \n",
       "536852                                  0.0                              0.0   \n",
       "536974                                  0.0                              0.0   \n",
       "537065                                  0.0                              0.0   \n",
       "537463                                  0.0                              0.0   \n",
       "...                                     ...                              ...   \n",
       "580986                                  0.0                              0.0   \n",
       "581001                                  0.0                              0.0   \n",
       "581171                                  0.0                              0.0   \n",
       "581279                                  0.0                              0.0   \n",
       "581587                                  0.0                              0.0   \n",
       "\n",
       "Description  YELLOW SHARK HELICOPTER  ZINC  STAR T-LIGHT HOLDER  \\\n",
       "InvoiceNo                                                         \n",
       "536370                           0.0                        0.0   \n",
       "536852                           0.0                        0.0   \n",
       "536974                           0.0                        0.0   \n",
       "537065                           0.0                        0.0   \n",
       "537463                           0.0                        0.0   \n",
       "...                              ...                        ...   \n",
       "580986                           0.0                        0.0   \n",
       "581001                           0.0                        0.0   \n",
       "581171                           0.0                        0.0   \n",
       "581279                           0.0                        0.0   \n",
       "581587                           0.0                        0.0   \n",
       "\n",
       "Description  ZINC FOLKART SLEIGH BELLS  ZINC HERB GARDEN CONTAINER  \\\n",
       "InvoiceNo                                                            \n",
       "536370                             0.0                         0.0   \n",
       "536852                             0.0                         0.0   \n",
       "536974                             0.0                         0.0   \n",
       "537065                             0.0                         0.0   \n",
       "537463                             0.0                         0.0   \n",
       "...                                ...                         ...   \n",
       "580986                             0.0                         0.0   \n",
       "581001                             0.0                         0.0   \n",
       "581171                             0.0                         0.0   \n",
       "581279                             0.0                         0.0   \n",
       "581587                             0.0                         0.0   \n",
       "\n",
       "Description  ZINC METAL HEART DECORATION  ZINC T-LIGHT HOLDER STAR LARGE  \\\n",
       "InvoiceNo                                                                  \n",
       "536370                               0.0                             0.0   \n",
       "536852                               0.0                             0.0   \n",
       "536974                               0.0                             0.0   \n",
       "537065                               0.0                             0.0   \n",
       "537463                               0.0                             0.0   \n",
       "...                                  ...                             ...   \n",
       "580986                               0.0                             0.0   \n",
       "581001                               0.0                             0.0   \n",
       "581171                               0.0                             0.0   \n",
       "581279                               0.0                             0.0   \n",
       "581587                               0.0                             0.0   \n",
       "\n",
       "Description  ZINC T-LIGHT HOLDER STARS SMALL  \n",
       "InvoiceNo                                     \n",
       "536370                                   0.0  \n",
       "536852                                   0.0  \n",
       "536974                                   0.0  \n",
       "537065                                   0.0  \n",
       "537463                                   0.0  \n",
       "...                                      ...  \n",
       "580986                                   0.0  \n",
       "581001                                   0.0  \n",
       "581171                                   0.0  \n",
       "581279                                   0.0  \n",
       "581587                                   0.0  \n",
       "\n",
       "[392 rows x 1563 columns]>"
      ]
     },
     "execution_count": 8,
     "metadata": {},
     "output_type": "execute_result"
    }
   ],
   "source": [
    "#Printing dataset of France \n",
    "basket_France.head"
   ]
  },
  {
   "cell_type": "raw",
   "metadata": {},
   "source": [
    "Applying One-Hot Encode on dataset for quantity to categorize into two sets based on rules"
   ]
  },
  {
   "cell_type": "code",
   "execution_count": 9,
   "metadata": {},
   "outputs": [],
   "source": [
    "#Specifying the rules\n",
    "def one_hot_encode(x):\n",
    "    if x>=1:\n",
    "        return 1\n",
    "    else:\n",
    "        return 0"
   ]
  },
  {
   "cell_type": "code",
   "execution_count": 10,
   "metadata": {},
   "outputs": [],
   "source": [
    "# Encoding the datasets \n",
    "basket_encoded = basket_France.applymap(one_hot_encode) \n",
    "basket_France = basket_encoded \n",
    "  \n",
    "basket_encoded = basket_UK.applymap(one_hot_encode) \n",
    "basket_UK = basket_encoded \n",
    "  \n",
    "basket_encoded = basket_Por.applymap(one_hot_encode) \n",
    "basket_Por = basket_encoded \n",
    "  \n",
    "basket_encoded = basket_Sweden.applymap(one_hot_encode) \n",
    "basket_Sweden = basket_encoded "
   ]
  },
  {
   "cell_type": "raw",
   "metadata": {},
   "source": [
    "Now we have built our dataset needed for ingression into models"
   ]
  },
  {
   "cell_type": "code",
   "execution_count": 15,
   "metadata": {},
   "outputs": [
    {
     "name": "stdout",
     "output_type": "stream",
     "text": [
      "                                           antecedents  \\\n",
      "44                        (JUMBO BAG WOODLAND ANIMALS)   \n",
      "258  (PLASTERS IN TIN CIRCUS PARADE, RED TOADSTOOL ...   \n",
      "270  (PLASTERS IN TIN WOODLAND ANIMALS, RED TOADSTO...   \n",
      "300  (SET/20 RED RETROSPOT PAPER NAPKINS, SET/6 RED...   \n",
      "301  (SET/20 RED RETROSPOT PAPER NAPKINS, SET/6 RED...   \n",
      "\n",
      "                         consequents  antecedent support  consequent support  \\\n",
      "44                         (POSTAGE)            0.076531            0.765306   \n",
      "258                        (POSTAGE)            0.051020            0.765306   \n",
      "270                        (POSTAGE)            0.053571            0.765306   \n",
      "300  (SET/6 RED SPOTTY PAPER PLATES)            0.102041            0.127551   \n",
      "301    (SET/6 RED SPOTTY PAPER CUPS)            0.102041            0.137755   \n",
      "\n",
      "      support  confidence      lift  leverage  conviction  \n",
      "44   0.076531       1.000  1.306667  0.017961         inf  \n",
      "258  0.051020       1.000  1.306667  0.011974         inf  \n",
      "270  0.053571       1.000  1.306667  0.012573         inf  \n",
      "300  0.099490       0.975  7.644000  0.086474   34.897959  \n",
      "301  0.099490       0.975  7.077778  0.085433   34.489796  \n"
     ]
    }
   ],
   "source": [
    "# Building the model \n",
    "frq_items = apriori(basket_France, min_support = 0.05, use_colnames = True) \n",
    "  \n",
    "# Collecting the inferred rules in a dataframe \n",
    "rules = association_rules(frq_items, metric =\"lift\", min_threshold = 1) \n",
    "rules = rules.sort_values(['confidence', 'lift'], ascending =[False, False]) \n",
    "print(rules.head()) "
   ]
  },
  {
   "cell_type": "code",
   "execution_count": 19,
   "metadata": {},
   "outputs": [
    {
     "name": "stdout",
     "output_type": "stream",
     "text": [
      "                              antecedents                         consequents  \\\n",
      "1170   (SET 12 COLOUR PENCILS DOLLY GIRL)    (SET 12 COLOUR PENCILS SPACEBOY)   \n",
      "1171     (SET 12 COLOUR PENCILS SPACEBOY)  (SET 12 COLOUR PENCILS DOLLY GIRL)   \n",
      "1172   (SET OF 4 KNICK KNACK TINS LONDON)  (SET 12 COLOUR PENCILS DOLLY GIRL)   \n",
      "1173   (SET 12 COLOUR PENCILS DOLLY GIRL)  (SET OF 4 KNICK KNACK TINS LONDON)   \n",
      "1174  (SET OF 4 KNICK KNACK TINS POPPIES)  (SET 12 COLOUR PENCILS DOLLY GIRL)   \n",
      "\n",
      "      antecedent support  consequent support   support  confidence       lift  \\\n",
      "1170            0.051724            0.051724  0.051724         1.0  19.333333   \n",
      "1171            0.051724            0.051724  0.051724         1.0  19.333333   \n",
      "1172            0.051724            0.051724  0.051724         1.0  19.333333   \n",
      "1173            0.051724            0.051724  0.051724         1.0  19.333333   \n",
      "1174            0.051724            0.051724  0.051724         1.0  19.333333   \n",
      "\n",
      "      leverage  conviction  \n",
      "1170  0.049049         inf  \n",
      "1171  0.049049         inf  \n",
      "1172  0.049049         inf  \n",
      "1173  0.049049         inf  \n",
      "1174  0.049049         inf  \n"
     ]
    }
   ],
   "source": [
    "#Inferred rules for France\n",
    "frq_items = apriori(basket_Por, min_support = 0.05, use_colnames = True) \n",
    "rules = association_rules(frq_items, metric =\"lift\", min_threshold = 1) \n",
    "rules = rules.sort_values(['confidence', 'lift'], ascending =[False, False]) \n",
    "print(rules.head()) "
   ]
  }
 ],
 "metadata": {
  "kernelspec": {
   "display_name": "Python 3",
   "language": "python",
   "name": "python3"
  },
  "language_info": {
   "codemirror_mode": {
    "name": "ipython",
    "version": 3
   },
   "file_extension": ".py",
   "mimetype": "text/x-python",
   "name": "python",
   "nbconvert_exporter": "python",
   "pygments_lexer": "ipython3",
   "version": "3.8.3"
  }
 },
 "nbformat": 4,
 "nbformat_minor": 4
}
